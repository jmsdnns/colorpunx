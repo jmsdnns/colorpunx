{
 "cells": [
  {
   "cell_type": "markdown",
   "id": "e4edaeeb",
   "metadata": {},
   "source": [
    "# AR Punks\n",
    "Using an Auto Encoder to generate new punks from old"
   ]
  },
  {
   "cell_type": "code",
   "execution_count": 1,
   "id": "94a1c998",
   "metadata": {},
   "outputs": [],
   "source": [
    "import sys\n",
    "sys.path.append('..')\n",
    "sys.path.append('/home/tnn1t1s/art/cpunks-10k')\n",
    "\n",
    "import numpy as np\n",
    "import pandas as pd\n",
    "import pickle\n",
    "import matplotlib.image as mpimg\n",
    "import matplotlib.pyplot as plt\n",
    "\n",
    "%matplotlib inline\n",
    "plt.style.use('default')\n",
    "from matplotlib.colors import rgb2hex\n",
    "import matplotlib.pyplot as plt\n",
    "from mpl_toolkits.axes_grid1 import ImageGrid\n",
    "\n",
    "import cpunks.cpunks10k as cpunks10k\n",
    "import cpunks.utils as cputils\n",
    "\n",
    "import os\n",
    "#os.environ[\"CUDA_VISIBLE_DEVICES\"]=\"1\"    \n",
    "import tensorflow as tf"
   ]
  },
  {
   "cell_type": "code",
   "execution_count": 2,
   "id": "78ce8a7b",
   "metadata": {},
   "outputs": [],
   "source": [
    "from tensorflow.keras.layers import Input, Conv2D, Flatten, Dense, Conv2DTranspose, Reshape, Lambda, Activation, BatchNormalization, LeakyReLU, Dropout\n",
    "from tensorflow.keras.models import Model\n",
    "from tensorflow.keras import backend as K\n",
    "from tensorflow.keras.optimizers import Adam"
   ]
  },
  {
   "cell_type": "code",
   "execution_count": 3,
   "id": "2d3765ed",
   "metadata": {},
   "outputs": [],
   "source": [
    "cp = cpunks10k.cpunks10k()\n",
    "(X_train, Y_train), (X_test, Y_test), (labels) = cp.load_data()\n",
    "X = np.concatenate((X_train, X_test), axis=0)\n",
    "df = cp.punks_df"
   ]
  },
  {
   "cell_type": "markdown",
   "id": "9c19ee1e",
   "metadata": {},
   "source": [
    "### meta parameters"
   ]
  },
  {
   "cell_type": "code",
   "execution_count": 4,
   "id": "50e4aa6f",
   "metadata": {},
   "outputs": [],
   "source": [
    "class ContextManager(dict):\n",
    "    \"\"\"dot.notation access to dictionary attributes\"\"\"\n",
    "    __getattr__ = dict.get\n",
    "    __setattr__ = dict.__setitem__\n",
    "    __delattr__ = dict.__delitem__\n"
   ]
  },
  {
   "cell_type": "code",
   "execution_count": 5,
   "id": "ab638c0c",
   "metadata": {},
   "outputs": [],
   "source": [
    "def r_loss(y_true, y_pred):\n",
    "            return K.mean(K.square(y_true - y_pred), axis = [1,2,3])\n",
    "ctx = ContextManager({})\n",
    "ctx.r_loss = r_loss\n",
    "ctx.learning_rate = 0.0005\n",
    "ctx.batch_size = 32\n",
    "ctx.initial_epoch = 0\n",
    "ctx.input_dim = (24, 24, 4)\n",
    "ctx.encoder_conv_filters = [32, 64, 64, 64]\n",
    "ctx.encoder_conv_kernel_size = [3,3,3,3]\n",
    "ctx.encoder_conv_strides = [1,2,2,1]\n",
    "ctx.decoder_conv_t_filters = [64,64,32,4]\n",
    "ctx.decoder_conv_t_kernel_size = [3,3,3,3]\n",
    "ctx.decoder_conv_t_strides = [1,2,2,1]\n",
    "ctx.z_dim = 4\n",
    "ctx.n_layers_encoder = len(ctx.encoder_conv_filters)\n",
    "ctx.n_layers_decoder = len(ctx.decoder_conv_t_filters)\n"
   ]
  },
  {
   "cell_type": "code",
   "execution_count": 6,
   "id": "8e0c354e",
   "metadata": {},
   "outputs": [
    {
     "name": "stderr",
     "output_type": "stream",
     "text": [
      "2022-01-30 18:02:51.692298: I tensorflow/stream_executor/cuda/cuda_gpu_executor.cc:939] successful NUMA node read from SysFS had negative value (-1), but there must be at least one NUMA node, so returning NUMA node zero\n",
      "2022-01-30 18:02:51.748948: I tensorflow/stream_executor/cuda/cuda_gpu_executor.cc:939] successful NUMA node read from SysFS had negative value (-1), but there must be at least one NUMA node, so returning NUMA node zero\n",
      "2022-01-30 18:02:51.749211: I tensorflow/stream_executor/cuda/cuda_gpu_executor.cc:939] successful NUMA node read from SysFS had negative value (-1), but there must be at least one NUMA node, so returning NUMA node zero\n"
     ]
    }
   ],
   "source": [
    "gpu_devices = tf.config.experimental.list_physical_devices('GPU')\n",
    "for device in gpu_devices:\n",
    "    tf.config.experimental.set_memory_growth(device, True)"
   ]
  },
  {
   "cell_type": "code",
   "execution_count": 8,
   "id": "370e39dc",
   "metadata": {},
   "outputs": [],
   "source": [
    "encoder_input = Input(shape=ctx.input_dim, \n",
    "                      name='encoder_input')\n",
    "\n",
    "x = encoder_input\n",
    "\n",
    "for i in range(ctx.n_layers_encoder):\n",
    "    conv_layer = Conv2D(filters = ctx.encoder_conv_filters[i],\n",
    "                        kernel_size = ctx.encoder_conv_kernel_size[i],\n",
    "                        strides = ctx.encoder_conv_strides[i],\n",
    "                        padding = 'same',\n",
    "                        name = 'encoder_conv_' + str(i))\n",
    "    x = conv_layer(x)\n",
    "    x = LeakyReLU()(x)\n",
    "    \n",
    "shape_before_flattening = K.int_shape(x)[1:]\n",
    "x = Flatten()(x)\n",
    "encoder_output= Dense(ctx.z_dim, name='encoder_output')(x)\n",
    "encoder = Model(encoder_input, encoder_output)\n"
   ]
  },
  {
   "cell_type": "markdown",
   "id": "136f1616",
   "metadata": {},
   "source": [
    "### The Decoder"
   ]
  },
  {
   "cell_type": "code",
   "execution_count": 9,
   "id": "dc3f5e48",
   "metadata": {},
   "outputs": [],
   "source": [
    "decoder_input = Input(shape=(ctx.z_dim,), name='decoder_input')\n",
    "\n",
    "x = Dense(np.prod(shape_before_flattening))(decoder_input)\n",
    "x = Reshape(shape_before_flattening)(x)\n",
    "\n",
    "for i in range(ctx.n_layers_decoder):\n",
    "    conv_t_layer = Conv2DTranspose(filters = ctx.decoder_conv_t_filters[i],\n",
    "                                   kernel_size = ctx.decoder_conv_t_kernel_size[i],\n",
    "                                   strides = ctx.decoder_conv_t_strides[i],\n",
    "                                   padding = 'same',\n",
    "                                   name = 'decoder_conv_t_' + str(i))\n",
    "    x = conv_t_layer(x)\n",
    "    if i < ctx.n_layers_decoder - 1:\n",
    "        x = LeakyReLU()(x)\n",
    "        #x = BatchNormalization()(x)\n",
    "        #x = Dropout(rate = 0.25)(x)\n",
    "    else:\n",
    "        x = Activation('sigmoid')(x)\n",
    "\n",
    "decoder_output = x\n",
    "decoder = Model(decoder_input, decoder_output)\n"
   ]
  },
  {
   "cell_type": "markdown",
   "id": "b7dc310c",
   "metadata": {},
   "source": [
    "### Combine to Build the Autoencoder"
   ]
  },
  {
   "cell_type": "code",
   "execution_count": 10,
   "id": "f9715f29",
   "metadata": {},
   "outputs": [],
   "source": [
    "model_input = encoder_input\n",
    "model_output = decoder(encoder_output)\n",
    "\n",
    "model = Model(model_input, model_output)\n"
   ]
  },
  {
   "cell_type": "markdown",
   "id": "47f38faa",
   "metadata": {},
   "source": [
    "### Compile"
   ]
  },
  {
   "cell_type": "code",
   "execution_count": 11,
   "id": "77949bef",
   "metadata": {},
   "outputs": [],
   "source": [
    "def r_loss(y_true, y_pred):\n",
    "            return K.mean(K.square(y_true - y_pred), axis = [1,2,3])"
   ]
  },
  {
   "cell_type": "code",
   "execution_count": 12,
   "id": "f57f32bf",
   "metadata": {},
   "outputs": [],
   "source": [
    "optimizer = Adam(learning_rate=ctx.learning_rate)\n",
    "model.compile(optimizer=optimizer, loss = r_loss)"
   ]
  },
  {
   "cell_type": "markdown",
   "id": "d8d50a8d",
   "metadata": {},
   "source": [
    "### Train"
   ]
  },
  {
   "cell_type": "code",
   "execution_count": 13,
   "id": "3273ae6d",
   "metadata": {},
   "outputs": [],
   "source": [
    "from tensorflow.keras.callbacks import Callback, LearningRateScheduler"
   ]
  },
  {
   "cell_type": "code",
   "execution_count": 14,
   "id": "40873bd4",
   "metadata": {},
   "outputs": [],
   "source": [
    "def step_decay_schedule(initial_lr, decay_factor=0.5, step_size=1):\n",
    "    '''\n",
    "    Wrapper function to create a LearningRateScheduler with step decay schedule.\n",
    "    '''\n",
    "    def schedule(epoch):\n",
    "        new_lr = initial_lr * (decay_factor ** np.floor(epoch/step_size))\n",
    "\n",
    "        return new_lr\n",
    "\n",
    "    return LearningRateScheduler(schedule)\n",
    "\n",
    "\n"
   ]
  },
  {
   "cell_type": "code",
   "execution_count": 15,
   "id": "fdf874ec",
   "metadata": {},
   "outputs": [
    {
     "name": "stdout",
     "output_type": "stream",
     "text": [
      "Epoch 1/200\n"
     ]
    },
    {
     "name": "stderr",
     "output_type": "stream",
     "text": [
      "2022-01-30 18:03:26.367203: I tensorflow/stream_executor/cuda/cuda_dnn.cc:366] Loaded cuDNN version 8200\n",
      "2022-01-30 18:03:31.304746: I tensorflow/core/platform/default/subprocess.cc:304] Start cannot spawn child process: No such file or directory\n"
     ]
    },
    {
     "name": "stdout",
     "output_type": "stream",
     "text": [
      "282/282 [==============================] - 22s 20ms/step - loss: 0.0527 - lr: 5.0000e-04\n",
      "Epoch 2/200\n",
      "282/282 [==============================] - 5s 19ms/step - loss: 0.0212 - lr: 5.0000e-04\n",
      "Epoch 3/200\n",
      "282/282 [==============================] - 5s 18ms/step - loss: 0.0175 - lr: 5.0000e-04\n",
      "Epoch 4/200\n",
      "282/282 [==============================] - 5s 18ms/step - loss: 0.0159 - lr: 5.0000e-04\n",
      "Epoch 5/200\n",
      "282/282 [==============================] - 5s 17ms/step - loss: 0.0146 - lr: 5.0000e-04\n",
      "Epoch 6/200\n",
      "282/282 [==============================] - 5s 17ms/step - loss: 0.0138 - lr: 5.0000e-04\n",
      "Epoch 7/200\n",
      "282/282 [==============================] - 5s 17ms/step - loss: 0.0132 - lr: 5.0000e-04\n",
      "Epoch 8/200\n",
      "282/282 [==============================] - 5s 17ms/step - loss: 0.0127 - lr: 5.0000e-04\n",
      "Epoch 9/200\n",
      "282/282 [==============================] - 5s 18ms/step - loss: 0.0123 - lr: 5.0000e-04\n",
      "Epoch 10/200\n",
      "282/282 [==============================] - 5s 18ms/step - loss: 0.0120 - lr: 5.0000e-04\n",
      "Epoch 11/200\n",
      "282/282 [==============================] - 5s 18ms/step - loss: 0.0117 - lr: 5.0000e-04\n",
      "Epoch 12/200\n",
      "282/282 [==============================] - 5s 19ms/step - loss: 0.0115 - lr: 5.0000e-04\n",
      "Epoch 13/200\n",
      "282/282 [==============================] - 5s 18ms/step - loss: 0.0112 - lr: 5.0000e-04\n",
      "Epoch 14/200\n",
      "282/282 [==============================] - 5s 17ms/step - loss: 0.0111 - lr: 5.0000e-04\n",
      "Epoch 15/200\n",
      "282/282 [==============================] - 5s 18ms/step - loss: 0.0109 - lr: 5.0000e-04\n",
      "Epoch 16/200\n",
      "282/282 [==============================] - 5s 18ms/step - loss: 0.0108 - lr: 5.0000e-04\n",
      "Epoch 17/200\n",
      "282/282 [==============================] - 5s 18ms/step - loss: 0.0106 - lr: 5.0000e-04\n",
      "Epoch 18/200\n",
      "282/282 [==============================] - 5s 18ms/step - loss: 0.0105 - lr: 5.0000e-04\n",
      "Epoch 19/200\n",
      "282/282 [==============================] - 5s 18ms/step - loss: 0.0104 - lr: 5.0000e-04\n",
      "Epoch 20/200\n",
      "282/282 [==============================] - 5s 18ms/step - loss: 0.0103 - lr: 5.0000e-04\n",
      "Epoch 21/200\n",
      "282/282 [==============================] - 5s 18ms/step - loss: 0.0101 - lr: 5.0000e-04\n",
      "Epoch 22/200\n",
      "282/282 [==============================] - 5s 18ms/step - loss: 0.0100 - lr: 5.0000e-04\n",
      "Epoch 23/200\n",
      "282/282 [==============================] - 5s 18ms/step - loss: 0.0098 - lr: 5.0000e-04\n",
      "Epoch 24/200\n",
      "282/282 [==============================] - 5s 18ms/step - loss: 0.0098 - lr: 5.0000e-04\n",
      "Epoch 25/200\n",
      "282/282 [==============================] - 5s 17ms/step - loss: 0.0096 - lr: 5.0000e-04\n",
      "Epoch 26/200\n",
      "282/282 [==============================] - 5s 19ms/step - loss: 0.0095 - lr: 5.0000e-04\n",
      "Epoch 27/200\n",
      "282/282 [==============================] - 5s 19ms/step - loss: 0.0093 - lr: 5.0000e-04\n",
      "Epoch 28/200\n",
      "282/282 [==============================] - 5s 17ms/step - loss: 0.0092 - lr: 5.0000e-04\n",
      "Epoch 29/200\n",
      "282/282 [==============================] - 5s 18ms/step - loss: 0.0090 - lr: 5.0000e-04\n",
      "Epoch 30/200\n",
      "282/282 [==============================] - 5s 19ms/step - loss: 0.0089 - lr: 5.0000e-04\n",
      "Epoch 31/200\n",
      "282/282 [==============================] - 5s 18ms/step - loss: 0.0088 - lr: 5.0000e-04\n",
      "Epoch 32/200\n",
      "282/282 [==============================] - 5s 16ms/step - loss: 0.0087 - lr: 5.0000e-04\n",
      "Epoch 33/200\n",
      "282/282 [==============================] - 5s 17ms/step - loss: 0.0085 - lr: 5.0000e-04\n",
      "Epoch 34/200\n",
      "282/282 [==============================] - 5s 16ms/step - loss: 0.0084 - lr: 5.0000e-04\n",
      "Epoch 35/200\n",
      "282/282 [==============================] - 5s 16ms/step - loss: 0.0083 - lr: 5.0000e-04\n",
      "Epoch 36/200\n",
      "282/282 [==============================] - 5s 16ms/step - loss: 0.0083 - lr: 5.0000e-04\n",
      "Epoch 37/200\n",
      "282/282 [==============================] - 4s 16ms/step - loss: 0.0082 - lr: 5.0000e-04\n",
      "Epoch 38/200\n",
      "282/282 [==============================] - 6s 22ms/step - loss: 0.0082 - lr: 5.0000e-04\n",
      "Epoch 39/200\n",
      "282/282 [==============================] - 6s 20ms/step - loss: 0.0080 - lr: 5.0000e-04\n",
      "Epoch 40/200\n",
      "282/282 [==============================] - 7s 23ms/step - loss: 0.0080 - lr: 5.0000e-04\n",
      "Epoch 41/200\n",
      "282/282 [==============================] - 7s 24ms/step - loss: 0.0079 - lr: 5.0000e-04\n",
      "Epoch 42/200\n",
      "282/282 [==============================] - 6s 23ms/step - loss: 0.0079 - lr: 5.0000e-04\n",
      "Epoch 43/200\n",
      "282/282 [==============================] - 7s 23ms/step - loss: 0.0078 - lr: 5.0000e-04\n",
      "Epoch 44/200\n",
      "282/282 [==============================] - 7s 24ms/step - loss: 0.0077 - lr: 5.0000e-04\n",
      "Epoch 45/200\n",
      "282/282 [==============================] - 7s 23ms/step - loss: 0.0077 - lr: 5.0000e-04\n",
      "Epoch 46/200\n",
      "282/282 [==============================] - 7s 24ms/step - loss: 0.0076 - lr: 5.0000e-04\n",
      "Epoch 47/200\n",
      "282/282 [==============================] - 7s 24ms/step - loss: 0.0076 - lr: 5.0000e-04\n",
      "Epoch 48/200\n",
      "282/282 [==============================] - 7s 24ms/step - loss: 0.0075 - lr: 5.0000e-04\n",
      "Epoch 49/200\n",
      "282/282 [==============================] - 7s 23ms/step - loss: 0.0075 - lr: 5.0000e-04\n",
      "Epoch 50/200\n",
      "282/282 [==============================] - 7s 23ms/step - loss: 0.0074 - lr: 5.0000e-04\n",
      "Epoch 51/200\n",
      "282/282 [==============================] - 7s 24ms/step - loss: 0.0074 - lr: 5.0000e-04\n",
      "Epoch 52/200\n",
      "282/282 [==============================] - 7s 24ms/step - loss: 0.0073 - lr: 5.0000e-04\n",
      "Epoch 53/200\n",
      "282/282 [==============================] - 5s 17ms/step - loss: 0.0073 - lr: 5.0000e-04\n",
      "Epoch 54/200\n",
      "282/282 [==============================] - 4s 16ms/step - loss: 0.0072 - lr: 5.0000e-04\n",
      "Epoch 55/200\n",
      "282/282 [==============================] - 5s 17ms/step - loss: 0.0072 - lr: 5.0000e-04\n",
      "Epoch 56/200\n",
      "282/282 [==============================] - 5s 19ms/step - loss: 0.0072 - lr: 5.0000e-04\n",
      "Epoch 57/200\n",
      "282/282 [==============================] - 6s 21ms/step - loss: 0.0071 - lr: 5.0000e-04\n",
      "Epoch 58/200\n",
      "282/282 [==============================] - 5s 17ms/step - loss: 0.0071 - lr: 5.0000e-04\n",
      "Epoch 59/200\n",
      "282/282 [==============================] - 5s 17ms/step - loss: 0.0070 - lr: 5.0000e-04\n",
      "Epoch 60/200\n",
      "282/282 [==============================] - 5s 18ms/step - loss: 0.0070 - lr: 5.0000e-04\n",
      "Epoch 61/200\n",
      "282/282 [==============================] - 5s 17ms/step - loss: 0.0070 - lr: 5.0000e-04\n",
      "Epoch 62/200\n",
      "282/282 [==============================] - 5s 17ms/step - loss: 0.0069 - lr: 5.0000e-04\n",
      "Epoch 63/200\n",
      "282/282 [==============================] - 5s 17ms/step - loss: 0.0069 - lr: 5.0000e-04\n",
      "Epoch 64/200\n",
      "282/282 [==============================] - 5s 17ms/step - loss: 0.0068 - lr: 5.0000e-04\n",
      "Epoch 65/200\n",
      "282/282 [==============================] - 5s 17ms/step - loss: 0.0068 - lr: 5.0000e-04\n",
      "Epoch 66/200\n",
      "282/282 [==============================] - 5s 17ms/step - loss: 0.0067 - lr: 5.0000e-04\n",
      "Epoch 67/200\n",
      "282/282 [==============================] - 5s 17ms/step - loss: 0.0067 - lr: 5.0000e-04\n",
      "Epoch 68/200\n",
      "282/282 [==============================] - 5s 17ms/step - loss: 0.0066 - lr: 5.0000e-04\n",
      "Epoch 69/200\n",
      "282/282 [==============================] - 5s 17ms/step - loss: 0.0066 - lr: 5.0000e-04\n",
      "Epoch 70/200\n",
      "282/282 [==============================] - 5s 17ms/step - loss: 0.0065 - lr: 5.0000e-04\n",
      "Epoch 71/200\n",
      "282/282 [==============================] - 5s 17ms/step - loss: 0.0065 - lr: 5.0000e-04\n",
      "Epoch 72/200\n",
      "282/282 [==============================] - 5s 17ms/step - loss: 0.0065 - lr: 5.0000e-04\n",
      "Epoch 73/200\n",
      "282/282 [==============================] - 5s 17ms/step - loss: 0.0064 - lr: 5.0000e-04\n",
      "Epoch 74/200\n",
      "282/282 [==============================] - 5s 17ms/step - loss: 0.0065 - lr: 5.0000e-04\n",
      "Epoch 75/200\n",
      "282/282 [==============================] - 5s 17ms/step - loss: 0.0064 - lr: 5.0000e-04\n",
      "Epoch 76/200\n",
      "282/282 [==============================] - 5s 17ms/step - loss: 0.0064 - lr: 5.0000e-04\n",
      "Epoch 77/200\n",
      "282/282 [==============================] - 5s 17ms/step - loss: 0.0064 - lr: 5.0000e-04\n",
      "Epoch 78/200\n",
      "282/282 [==============================] - 5s 17ms/step - loss: 0.0063 - lr: 5.0000e-04\n",
      "Epoch 79/200\n",
      "282/282 [==============================] - 5s 17ms/step - loss: 0.0063 - lr: 5.0000e-04\n",
      "Epoch 80/200\n",
      "282/282 [==============================] - 5s 17ms/step - loss: 0.0063 - lr: 5.0000e-04\n",
      "Epoch 81/200\n",
      "282/282 [==============================] - 5s 17ms/step - loss: 0.0063 - lr: 5.0000e-04\n",
      "Epoch 82/200\n"
     ]
    },
    {
     "name": "stdout",
     "output_type": "stream",
     "text": [
      "282/282 [==============================] - 5s 18ms/step - loss: 0.0062 - lr: 5.0000e-04\n",
      "Epoch 83/200\n",
      "282/282 [==============================] - 5s 18ms/step - loss: 0.0062 - lr: 5.0000e-04\n",
      "Epoch 84/200\n",
      "282/282 [==============================] - 5s 18ms/step - loss: 0.0062 - lr: 5.0000e-04\n",
      "Epoch 85/200\n",
      "282/282 [==============================] - 5s 17ms/step - loss: 0.0061 - lr: 5.0000e-04\n",
      "Epoch 86/200\n",
      "282/282 [==============================] - 5s 18ms/step - loss: 0.0061 - lr: 5.0000e-04\n",
      "Epoch 87/200\n",
      "282/282 [==============================] - 5s 18ms/step - loss: 0.0062 - lr: 5.0000e-04\n",
      "Epoch 88/200\n",
      "282/282 [==============================] - 5s 17ms/step - loss: 0.0061 - lr: 5.0000e-04\n",
      "Epoch 89/200\n",
      "282/282 [==============================] - 5s 17ms/step - loss: 0.0061 - lr: 5.0000e-04\n",
      "Epoch 90/200\n",
      "282/282 [==============================] - 5s 18ms/step - loss: 0.0060 - lr: 5.0000e-04\n",
      "Epoch 91/200\n",
      "282/282 [==============================] - 5s 18ms/step - loss: 0.0060 - lr: 5.0000e-04\n",
      "Epoch 92/200\n",
      "282/282 [==============================] - 5s 17ms/step - loss: 0.0060 - lr: 5.0000e-04\n",
      "Epoch 93/200\n",
      "282/282 [==============================] - 5s 18ms/step - loss: 0.0060 - lr: 5.0000e-04\n",
      "Epoch 94/200\n",
      "282/282 [==============================] - 5s 17ms/step - loss: 0.0060 - lr: 5.0000e-04\n",
      "Epoch 95/200\n",
      "282/282 [==============================] - 5s 17ms/step - loss: 0.0060 - lr: 5.0000e-04\n",
      "Epoch 96/200\n",
      "282/282 [==============================] - 5s 17ms/step - loss: 0.0059 - lr: 5.0000e-04\n",
      "Epoch 97/200\n",
      "282/282 [==============================] - 5s 17ms/step - loss: 0.0059 - lr: 5.0000e-04\n",
      "Epoch 98/200\n",
      "282/282 [==============================] - 5s 17ms/step - loss: 0.0059 - lr: 5.0000e-04\n",
      "Epoch 99/200\n",
      "282/282 [==============================] - 5s 17ms/step - loss: 0.0059 - lr: 5.0000e-04\n",
      "Epoch 100/200\n",
      "282/282 [==============================] - 5s 18ms/step - loss: 0.0059 - lr: 5.0000e-04\n",
      "Epoch 101/200\n",
      "282/282 [==============================] - 5s 18ms/step - loss: 0.0058 - lr: 5.0000e-04\n",
      "Epoch 102/200\n",
      "282/282 [==============================] - 5s 18ms/step - loss: 0.0058 - lr: 5.0000e-04\n",
      "Epoch 103/200\n",
      "282/282 [==============================] - 5s 17ms/step - loss: 0.0058 - lr: 5.0000e-04\n",
      "Epoch 104/200\n",
      "282/282 [==============================] - 5s 17ms/step - loss: 0.0058 - lr: 5.0000e-04\n",
      "Epoch 105/200\n",
      "282/282 [==============================] - 5s 17ms/step - loss: 0.0058 - lr: 5.0000e-04\n",
      "Epoch 106/200\n",
      "282/282 [==============================] - 5s 17ms/step - loss: 0.0058 - lr: 5.0000e-04\n",
      "Epoch 107/200\n",
      "282/282 [==============================] - 5s 17ms/step - loss: 0.0058 - lr: 5.0000e-04\n",
      "Epoch 108/200\n",
      "282/282 [==============================] - 5s 17ms/step - loss: 0.0058 - lr: 5.0000e-04\n",
      "Epoch 109/200\n",
      "282/282 [==============================] - 5s 18ms/step - loss: 0.0057 - lr: 5.0000e-04\n",
      "Epoch 110/200\n",
      "282/282 [==============================] - 5s 17ms/step - loss: 0.0057 - lr: 5.0000e-04\n",
      "Epoch 111/200\n",
      "282/282 [==============================] - 5s 17ms/step - loss: 0.0057 - lr: 5.0000e-04\n",
      "Epoch 112/200\n",
      "282/282 [==============================] - 5s 17ms/step - loss: 0.0057 - lr: 5.0000e-04\n",
      "Epoch 113/200\n",
      "282/282 [==============================] - 5s 17ms/step - loss: 0.0057 - lr: 5.0000e-04\n",
      "Epoch 114/200\n",
      "282/282 [==============================] - 5s 18ms/step - loss: 0.0057 - lr: 5.0000e-04\n",
      "Epoch 115/200\n",
      "282/282 [==============================] - 5s 17ms/step - loss: 0.0057 - lr: 5.0000e-04\n",
      "Epoch 116/200\n",
      "282/282 [==============================] - 5s 17ms/step - loss: 0.0057 - lr: 5.0000e-04\n",
      "Epoch 117/200\n",
      "282/282 [==============================] - 5s 17ms/step - loss: 0.0056 - lr: 5.0000e-04\n",
      "Epoch 118/200\n",
      "282/282 [==============================] - 5s 18ms/step - loss: 0.0056 - lr: 5.0000e-04\n",
      "Epoch 119/200\n",
      "282/282 [==============================] - 5s 18ms/step - loss: 0.0056 - lr: 5.0000e-04\n",
      "Epoch 120/200\n",
      "282/282 [==============================] - 5s 18ms/step - loss: 0.0056 - lr: 5.0000e-04\n",
      "Epoch 121/200\n",
      "282/282 [==============================] - 5s 17ms/step - loss: 0.0056 - lr: 5.0000e-04\n",
      "Epoch 122/200\n",
      "282/282 [==============================] - 5s 18ms/step - loss: 0.0056 - lr: 5.0000e-04\n",
      "Epoch 123/200\n",
      "282/282 [==============================] - 5s 17ms/step - loss: 0.0055 - lr: 5.0000e-04\n",
      "Epoch 124/200\n",
      "282/282 [==============================] - 5s 17ms/step - loss: 0.0056 - lr: 5.0000e-04\n",
      "Epoch 125/200\n",
      "282/282 [==============================] - 5s 18ms/step - loss: 0.0055 - lr: 5.0000e-04\n",
      "Epoch 126/200\n",
      "282/282 [==============================] - 5s 18ms/step - loss: 0.0055 - lr: 5.0000e-04\n",
      "Epoch 127/200\n",
      "282/282 [==============================] - 5s 17ms/step - loss: 0.0055 - lr: 5.0000e-04\n",
      "Epoch 128/200\n",
      "282/282 [==============================] - 5s 18ms/step - loss: 0.0055 - lr: 5.0000e-04\n",
      "Epoch 129/200\n",
      "282/282 [==============================] - 5s 17ms/step - loss: 0.0055 - lr: 5.0000e-04\n",
      "Epoch 130/200\n",
      "282/282 [==============================] - 5s 17ms/step - loss: 0.0055 - lr: 5.0000e-04\n",
      "Epoch 131/200\n",
      "282/282 [==============================] - 5s 17ms/step - loss: 0.0055 - lr: 5.0000e-04\n",
      "Epoch 132/200\n",
      "282/282 [==============================] - 5s 17ms/step - loss: 0.0055 - lr: 5.0000e-04\n",
      "Epoch 133/200\n",
      "282/282 [==============================] - 5s 17ms/step - loss: 0.0055 - lr: 5.0000e-04\n",
      "Epoch 134/200\n",
      "282/282 [==============================] - 5s 17ms/step - loss: 0.0055 - lr: 5.0000e-04\n",
      "Epoch 135/200\n",
      "282/282 [==============================] - 5s 18ms/step - loss: 0.0055 - lr: 5.0000e-04\n",
      "Epoch 136/200\n",
      "282/282 [==============================] - 5s 17ms/step - loss: 0.0054 - lr: 5.0000e-04\n",
      "Epoch 137/200\n",
      "282/282 [==============================] - 5s 17ms/step - loss: 0.0054 - lr: 5.0000e-04\n",
      "Epoch 138/200\n",
      "282/282 [==============================] - 5s 17ms/step - loss: 0.0054 - lr: 5.0000e-04\n",
      "Epoch 139/200\n",
      "282/282 [==============================] - 5s 18ms/step - loss: 0.0054 - lr: 5.0000e-04\n",
      "Epoch 140/200\n",
      "282/282 [==============================] - 5s 18ms/step - loss: 0.0054 - lr: 5.0000e-04\n",
      "Epoch 141/200\n",
      "282/282 [==============================] - 5s 17ms/step - loss: 0.0054 - lr: 5.0000e-04\n",
      "Epoch 142/200\n",
      "282/282 [==============================] - 5s 17ms/step - loss: 0.0054 - lr: 5.0000e-04\n",
      "Epoch 143/200\n",
      "282/282 [==============================] - 5s 18ms/step - loss: 0.0054 - lr: 5.0000e-04\n",
      "Epoch 144/200\n",
      "282/282 [==============================] - 5s 17ms/step - loss: 0.0054 - lr: 5.0000e-04\n",
      "Epoch 145/200\n",
      "282/282 [==============================] - 5s 17ms/step - loss: 0.0053 - lr: 5.0000e-04\n",
      "Epoch 146/200\n",
      "282/282 [==============================] - 5s 17ms/step - loss: 0.0054 - lr: 5.0000e-04\n",
      "Epoch 147/200\n",
      "282/282 [==============================] - 5s 17ms/step - loss: 0.0053 - lr: 5.0000e-04\n",
      "Epoch 148/200\n",
      "282/282 [==============================] - 5s 17ms/step - loss: 0.0053 - lr: 5.0000e-04\n",
      "Epoch 149/200\n",
      "282/282 [==============================] - 5s 17ms/step - loss: 0.0053 - lr: 5.0000e-04\n",
      "Epoch 150/200\n",
      "282/282 [==============================] - 5s 17ms/step - loss: 0.0053 - lr: 5.0000e-04\n",
      "Epoch 151/200\n",
      "282/282 [==============================] - 5s 17ms/step - loss: 0.0053 - lr: 5.0000e-04\n",
      "Epoch 152/200\n",
      "282/282 [==============================] - 5s 17ms/step - loss: 0.0053 - lr: 5.0000e-04\n",
      "Epoch 153/200\n",
      "282/282 [==============================] - 5s 17ms/step - loss: 0.0053 - lr: 5.0000e-04\n",
      "Epoch 154/200\n",
      "282/282 [==============================] - 5s 17ms/step - loss: 0.0053 - lr: 5.0000e-04\n",
      "Epoch 155/200\n",
      "282/282 [==============================] - 5s 17ms/step - loss: 0.0053 - lr: 5.0000e-04\n",
      "Epoch 156/200\n",
      "282/282 [==============================] - 5s 17ms/step - loss: 0.0053 - lr: 5.0000e-04\n",
      "Epoch 157/200\n",
      "282/282 [==============================] - 5s 17ms/step - loss: 0.0053 - lr: 5.0000e-04\n",
      "Epoch 158/200\n",
      "282/282 [==============================] - 5s 17ms/step - loss: 0.0053 - lr: 5.0000e-04\n",
      "Epoch 159/200\n",
      "282/282 [==============================] - 5s 17ms/step - loss: 0.0052 - lr: 5.0000e-04\n",
      "Epoch 160/200\n",
      "282/282 [==============================] - 5s 17ms/step - loss: 0.0053 - lr: 5.0000e-04\n",
      "Epoch 161/200\n",
      "282/282 [==============================] - 5s 17ms/step - loss: 0.0052 - lr: 5.0000e-04\n",
      "Epoch 162/200\n"
     ]
    },
    {
     "name": "stdout",
     "output_type": "stream",
     "text": [
      "282/282 [==============================] - 5s 18ms/step - loss: 0.0052 - lr: 5.0000e-04\n",
      "Epoch 163/200\n",
      "282/282 [==============================] - 5s 18ms/step - loss: 0.0052 - lr: 5.0000e-04\n",
      "Epoch 164/200\n",
      "282/282 [==============================] - 5s 18ms/step - loss: 0.0052 - lr: 5.0000e-04\n",
      "Epoch 165/200\n",
      "282/282 [==============================] - 5s 18ms/step - loss: 0.0052 - lr: 5.0000e-04\n",
      "Epoch 166/200\n",
      "282/282 [==============================] - 5s 18ms/step - loss: 0.0052 - lr: 5.0000e-04\n",
      "Epoch 167/200\n",
      "282/282 [==============================] - 5s 17ms/step - loss: 0.0052 - lr: 5.0000e-04\n",
      "Epoch 168/200\n",
      "282/282 [==============================] - 5s 17ms/step - loss: 0.0052 - lr: 5.0000e-04\n",
      "Epoch 169/200\n",
      "282/282 [==============================] - 5s 17ms/step - loss: 0.0052 - lr: 5.0000e-04\n",
      "Epoch 170/200\n",
      "282/282 [==============================] - 5s 17ms/step - loss: 0.0052 - lr: 5.0000e-04\n",
      "Epoch 171/200\n",
      "282/282 [==============================] - 5s 17ms/step - loss: 0.0052 - lr: 5.0000e-04\n",
      "Epoch 172/200\n",
      "282/282 [==============================] - 5s 18ms/step - loss: 0.0051 - lr: 5.0000e-04\n",
      "Epoch 173/200\n",
      "282/282 [==============================] - 5s 17ms/step - loss: 0.0052 - lr: 5.0000e-04\n",
      "Epoch 174/200\n",
      "282/282 [==============================] - 5s 17ms/step - loss: 0.0051 - lr: 5.0000e-04\n",
      "Epoch 175/200\n",
      "282/282 [==============================] - 5s 17ms/step - loss: 0.0051 - lr: 5.0000e-04\n",
      "Epoch 176/200\n",
      "282/282 [==============================] - 5s 17ms/step - loss: 0.0051 - lr: 5.0000e-04\n",
      "Epoch 177/200\n",
      "282/282 [==============================] - 5s 18ms/step - loss: 0.0052 - lr: 5.0000e-04\n",
      "Epoch 178/200\n",
      "282/282 [==============================] - 5s 17ms/step - loss: 0.0051 - lr: 5.0000e-04\n",
      "Epoch 179/200\n",
      "282/282 [==============================] - 5s 17ms/step - loss: 0.0051 - lr: 5.0000e-04\n",
      "Epoch 180/200\n",
      "282/282 [==============================] - 5s 18ms/step - loss: 0.0051 - lr: 5.0000e-04\n",
      "Epoch 181/200\n",
      "282/282 [==============================] - 5s 17ms/step - loss: 0.0051 - lr: 5.0000e-04\n",
      "Epoch 182/200\n",
      "282/282 [==============================] - 5s 18ms/step - loss: 0.0051 - lr: 5.0000e-04\n",
      "Epoch 183/200\n",
      "282/282 [==============================] - 5s 17ms/step - loss: 0.0051 - lr: 5.0000e-04\n",
      "Epoch 184/200\n",
      "282/282 [==============================] - 5s 17ms/step - loss: 0.0051 - lr: 5.0000e-04\n",
      "Epoch 185/200\n",
      "282/282 [==============================] - 5s 17ms/step - loss: 0.0050 - lr: 5.0000e-04\n",
      "Epoch 186/200\n",
      "282/282 [==============================] - 5s 17ms/step - loss: 0.0051 - lr: 5.0000e-04\n",
      "Epoch 187/200\n",
      "282/282 [==============================] - 5s 17ms/step - loss: 0.0051 - lr: 5.0000e-04\n",
      "Epoch 188/200\n",
      "282/282 [==============================] - 5s 17ms/step - loss: 0.0051 - lr: 5.0000e-04\n",
      "Epoch 189/200\n",
      "282/282 [==============================] - 5s 17ms/step - loss: 0.0051 - lr: 5.0000e-04\n",
      "Epoch 190/200\n",
      "282/282 [==============================] - 5s 17ms/step - loss: 0.0050 - lr: 5.0000e-04\n",
      "Epoch 191/200\n",
      "282/282 [==============================] - 5s 17ms/step - loss: 0.0051 - lr: 5.0000e-04\n",
      "Epoch 192/200\n",
      "282/282 [==============================] - 5s 17ms/step - loss: 0.0050 - lr: 5.0000e-04\n",
      "Epoch 193/200\n",
      "282/282 [==============================] - 5s 17ms/step - loss: 0.0050 - lr: 5.0000e-04\n",
      "Epoch 194/200\n",
      "282/282 [==============================] - 5s 17ms/step - loss: 0.0051 - lr: 5.0000e-04\n",
      "Epoch 195/200\n",
      "282/282 [==============================] - 5s 17ms/step - loss: 0.0050 - lr: 5.0000e-04\n",
      "Epoch 196/200\n",
      "282/282 [==============================] - 5s 17ms/step - loss: 0.0050 - lr: 5.0000e-04\n",
      "Epoch 197/200\n",
      "282/282 [==============================] - 5s 17ms/step - loss: 0.0050 - lr: 5.0000e-04\n",
      "Epoch 198/200\n",
      "282/282 [==============================] - 5s 17ms/step - loss: 0.0050 - lr: 5.0000e-04\n",
      "Epoch 199/200\n",
      "282/282 [==============================] - 5s 17ms/step - loss: 0.0050 - lr: 5.0000e-04\n",
      "Epoch 200/200\n",
      "282/282 [==============================] - 5s 17ms/step - loss: 0.0050 - lr: 5.0000e-04\n"
     ]
    },
    {
     "data": {
      "text/plain": [
       "<keras.callbacks.History at 0x7f55f1cf9a60>"
      ]
     },
     "execution_count": 15,
     "metadata": {},
     "output_type": "execute_result"
    }
   ],
   "source": [
    "epochs = 200\n",
    "\n",
    "initial_epoch = 0\n",
    "lr_decay = 1\n",
    "\n",
    "lr_sched = step_decay_schedule(initial_lr=ctx.learning_rate,\n",
    "                               decay_factor=lr_decay,\n",
    "                               step_size=1)\n",
    "\n",
    "callbacks_list = [lr_sched]\n",
    "\n",
    "model.fit(X_train,\n",
    "          X_train,\n",
    "          batch_size = ctx.batch_size,\n",
    "          shuffle = True,\n",
    "          epochs = epochs,\n",
    "          initial_epoch = initial_epoch,\n",
    "          callbacks = callbacks_list)"
   ]
  },
  {
   "cell_type": "code",
   "execution_count": 16,
   "id": "9f326ffb",
   "metadata": {},
   "outputs": [
    {
     "data": {
      "image/png": "[encoded data removed]",
      "text/plain": [
       "<Figure size 1500x300 with 20 Axes>"
      ]
     },
     "metadata": {},
     "output_type": "display_data"
    }
   ],
   "source": [
    "n_to_show = 10\n",
    "example_idx = np.random.choice(range(len(X_test)), n_to_show)\n",
    "example_images = X_test[example_idx]\n",
    "\n",
    "z_points = encoder.predict(example_images)\n",
    "\n",
    "reconst_images = decoder.predict(z_points)\n",
    "\n",
    "fig = plt.figure(figsize=(15, 3))\n",
    "fig.subplots_adjust(hspace=0.4, wspace=0.4)\n",
    "\n",
    "for i in range(n_to_show):\n",
    "    img = example_images[i]#.squeeze()\n",
    "    ax = fig.add_subplot(2, n_to_show, i+1)\n",
    "    ax.axis('off')\n",
    "    ax.text(0.5, -0.35, str(np.round(z_points[i],1)), fontsize=10, ha='center', transform=ax.transAxes)   \n",
    "    ax.imshow(img)\n",
    "\n",
    "for i in range(n_to_show):\n",
    "    img = reconst_images[i]#.squeeze()\n",
    "    ax = fig.add_subplot(2, n_to_show, i+n_to_show+1)\n",
    "    ax.axis('off')\n",
    "    ax.imshow(img)"
   ]
  },
  {
   "cell_type": "code",
   "execution_count": 17,
   "id": "34a677b0",
   "metadata": {},
   "outputs": [
    {
     "data": {
      "text/plain": [
       "array([[  7.350558  , -13.799404  ,  -2.4654112 ,  -6.299609  ],\n",
       "       [ 10.241212  ,   8.368749  ,   4.796343  ,  -5.5694203 ],\n",
       "       [  0.79132587,   5.842957  ,   7.545964  , -12.111668  ],\n",
       "       [ -1.5601897 ,   3.311593  ,   0.39512634, -18.702225  ],\n",
       "       [  9.647439  ,  -4.27914   ,   5.257742  , -11.377093  ],\n",
       "       [ 12.844572  ,   1.8600631 ,  10.4856    ,  -6.2996225 ],\n",
       "       [ -5.831522  ,  -8.7936535 ,  12.963443  ,  -4.3259063 ],\n",
       "       [ -6.283666  ,  -2.0380917 ,  12.582578  , -15.064583  ],\n",
       "       [-10.365253  , -11.024603  ,  16.105639  ,   3.2864196 ],\n",
       "       [ -9.743848  ,   7.4392285 ,  14.104405  ,   1.9254634 ]],\n",
       "      dtype=float32)"
      ]
     },
     "execution_count": 17,
     "metadata": {},
     "output_type": "execute_result"
    }
   ],
   "source": [
    "#reconst_images = AE.decoder.predict(z_points)\n",
    "z_points"
   ]
  },
  {
   "cell_type": "code",
   "execution_count": 24,
   "id": "7532d981",
   "metadata": {},
   "outputs": [
    {
     "data": {
      "text/plain": [
       "<matplotlib.image.AxesImage at 0x7f5572ed7160>"
      ]
     },
     "execution_count": 24,
     "metadata": {},
     "output_type": "execute_result"
    },
    {
     "data": {
      "image/png": "[encoded data removed]",
      "text/plain": [
       "<Figure size 640x480 with 1 Axes>"
      ]
     },
     "metadata": {},
     "output_type": "display_data"
    }
   ],
   "source": [
    "z_s = np.array([[  7.350558  , -13.799404  ,  -2.4654112 ,  -6.299609  ]])\n",
    "reconst_images = decoder.predict(z_s)\n",
    "plt.imshow(reconst_images[0])"
   ]
  },
  {
   "cell_type": "markdown",
   "id": "da76c19f",
   "metadata": {},
   "source": [
    "### pick two punks and do the old face morph trick "
   ]
  },
  {
   "cell_type": "code",
   "execution_count": 155,
   "id": "30d205f4",
   "metadata": {},
   "outputs": [],
   "source": [
    "punk_x_img = example_images[0]\n",
    "punk_y_img = example_images[8]\n",
    "punk_x_coords = [  7.350558  , -13.799404  ,  -2.4654112 ,  -6.299609  ]\n",
    "punk_y_coords = [-10.365253  , -11.024603  ,  16.105639  ,   3.2864196 ]\n",
    "\n",
    "punk_x_coords = [ 10.241212  ,   8.368749  ,   4.796343  ,  -5.5694203 ]\n",
    "punk_y_coords = [ 12.844572  ,   1.8600631 ,  10.4856    ,  -6.2996225 ]\n",
    "\n",
    "M=20\n",
    "x = punk_x_coords\n",
    "y = punk_y_coords\n",
    "x = zip(np.linspace(x[0],y[0],M),\n",
    "        np.linspace(x[1],y[1],M),\n",
    "        np.linspace(x[2],y[2],M),\n",
    "        np.linspace(x[3],y[3],M),\n",
    "       )\n",
    "z_s = np.array(list(x))\n",
    "#z_s = np.array([[  7.350558  , -13.799404  ,  -2.4654112 ,  -6.299609  ]])\n",
    "reconst_images = decoder.predict(z_s)\n",
    "#plt.imshow(reconst_images[8])\n",
    "\n",
    "fig = plt.figure(figsize=(15, 3))\n",
    "fig.subplots_adjust(hspace=0.4, wspace=0.4)\n",
    "for i in range(M):\n",
    "    img = reconst_images[i]#.squeeze()\n",
    "    ax = fig.add_subplot(2, n_to_show, i+1)\n",
    "    ax.axis('off')\n",
    "    ax.imshow(img)"
   ]
  },
  {
   "cell_type": "code",
   "execution_count": 156,
   "id": "81872cda",
   "metadata": {},
   "outputs": [],
   "source": [
    "imgs_reversed = np.array([reconst_images[i] for i in range(len(reconst_images) - 1, -1, -1)])\n",
    "imgs = np.concatenate((reconst_images, imgs_reversed))"
   ]
  },
  {
   "cell_type": "code",
   "execution_count": 157,
   "id": "453f4665",
   "metadata": {},
   "outputs": [],
   "source": [
    "import matplotlib.animation as animation\n",
    "%matplotlib qt\n",
    "\n",
    "imagelist=imgs \n",
    "fig = plt.figure() # make figure\n",
    "\n",
    "# make axesimage object\n",
    "# the vmin and vmax here are very important to get the color map correct\n",
    "im = plt.imshow(imagelist[0]) #, cmap=plt.get_cmap('jet'), vmin=0, vmax=255)\n",
    "\n",
    "# function to update figure\n",
    "def updatefig(j):\n",
    "    # set the data in the axesimage object\n",
    "    im.set_array(imagelist[j])\n",
    "    # return the artists set\n",
    "    return [im]\n",
    "# kick off the animation\n",
    "ani = animation.FuncAnimation(fig, updatefig, frames=range(40), \n",
    "                             interval=48)\n",
    "plt.show()"
   ]
  },
  {
   "cell_type": "code",
   "execution_count": null,
   "id": "054730ed",
   "metadata": {},
   "outputs": [],
   "source": [
    "fig = plt.figure(figsize=(15, 3))\n",
    "fig.subplots_adjust(hspace=0.4, wspace=0.4)"
   ]
  },
  {
   "cell_type": "markdown",
   "id": "584920fc",
   "metadata": {},
   "source": [
    "## Reducing Dimensions and staying true to the colorpunx"
   ]
  },
  {
   "cell_type": "code",
   "execution_count": 32,
   "id": "fd278e1f",
   "metadata": {},
   "outputs": [
    {
     "name": "stdout",
     "output_type": "stream",
     "text": [
      "Downloading data from https://storage.googleapis.com/tensorflow/tf-keras-datasets/mnist.npz\n",
      "11493376/11490434 [==============================] - 0s 0us/step\n"
     ]
    }
   ],
   "source": [
    "(mnist_x_train, mnist_y_train), (mnist_x_test, minst_y_test) = tf.keras.datasets.mnist.load_data()"
   ]
  },
  {
   "cell_type": "code",
   "execution_count": 37,
   "id": "c17fd3e7",
   "metadata": {},
   "outputs": [
    {
     "data": {
      "text/plain": [
       "numpy.uint8"
      ]
     },
     "execution_count": 37,
     "metadata": {},
     "output_type": "execute_result"
    }
   ],
   "source": [
    "type(mnist_x_train[0][0][0])"
   ]
  },
  {
   "cell_type": "code",
   "execution_count": 68,
   "id": "c9a57cc1",
   "metadata": {},
   "outputs": [
    {
     "data": {
      "text/plain": [
       "numpy.float32"
      ]
     },
     "execution_count": 68,
     "metadata": {},
     "output_type": "execute_result"
    }
   ],
   "source": [
    "type(X_train[0][0][0][0])"
   ]
  },
  {
   "cell_type": "code",
   "execution_count": 143,
   "id": "da061750",
   "metadata": {},
   "outputs": [],
   "source": [
    "import pickle\n",
    "\n",
    "class CryptoPunksColorMap:\n",
    "    def __init__(self):\n",
    "        with open(f\"../data/_colors_count.pickle\", 'rb') as f:\n",
    "            self.colors_count = pickle.load(f)\n",
    "            self.colors = list(self.colors_count.keys())\n",
    "            self.color_d = {}\n",
    "            i=0\n",
    "            for k in self.colors:\n",
    "                self.color_d[k] = i\n",
    "                i+=1\n",
    "    \n",
    "    def flatten(self, img):\n",
    "        return np.array([[self.colors_d[str(c)] for c in row]\n",
    "                                    for row in img]).astype(np.uint8)\n",
    "    \n",
    "    def unflatten(self,img):\n",
    "        return np.array([[np.fromstring(self.colors[c][1:-1], float, sep=' ') for c in row]\n",
    "                                                                       for row in img])\n",
    "\n",
    "cpm = CryptoPunksColorMap()"
   ]
  }
 ],
 "metadata": {
  "kernelspec": {
   "display_name": "Python 3 (ipykernel)",
   "language": "python",
   "name": "python3"
  },
  "language_info": {
   "codemirror_mode": {
    "name": "ipython",
    "version": 3
   },
   "file_extension": ".py",
   "mimetype": "text/x-python",
   "name": "python",
   "nbconvert_exporter": "python",
   "pygments_lexer": "ipython3",
   "version": "3.9.7"
  }
 },
 "nbformat": 4,
 "nbformat_minor": 5
}
