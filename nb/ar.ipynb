{
 "cells": [
  {
   "cell_type": "markdown",
   "id": "e4edaeeb",
   "metadata": {},
   "source": [
    "# AR Punks\n",
    "Using an Auto Encoder to generate new punks from old"
   ]
  },
  {
   "cell_type": "code",
   "execution_count": 2,
   "id": "94a1c998",
   "metadata": {},
   "outputs": [],
   "source": [
    "import sys\n",
    "sys.path.append('..')\n",
    "sys.path.append('/home/tnn1t1s/art/cpunks-10k')\n",
    "\n",
    "import numpy as np\n",
    "import pandas as pd\n",
    "import pickle\n",
    "import matplotlib.image as mpimg\n",
    "import matplotlib.pyplot as plt\n",
    "import matplotlib.animation as animation\n",
    "\n",
    "%matplotlib inline\n",
    "plt.style.use('default')\n",
    "from matplotlib.colors import rgb2hex\n",
    "import matplotlib.pyplot as plt\n",
    "from mpl_toolkits.axes_grid1 import ImageGrid\n",
    "\n",
    "import cpunks.cpunks10k as cpunks10k\n",
    "import cpunks.utils as cputils\n",
    "\n",
    "import os\n",
    "#os.environ[\"CUDA_VISIBLE_DEVICES\"]=\"1\"    \n",
    "import tensorflow as tf"
   ]
  },
  {
   "cell_type": "code",
   "execution_count": 4,
   "id": "78ce8a7b",
   "metadata": {},
   "outputs": [],
   "source": [
    "from tensorflow.keras.layers import Input, Conv2D, Flatten, Dense, Conv2DTranspose, Reshape, Lambda, Activation, BatchNormalization, LeakyReLU, Dropout\n",
    "from tensorflow.keras.models import Model\n",
    "from tensorflow.keras import backend as K\n",
    "from tensorflow.keras.optimizers import Adam"
   ]
  },
  {
   "cell_type": "code",
   "execution_count": 5,
   "id": "2d3765ed",
   "metadata": {},
   "outputs": [],
   "source": [
    "cp = cpunks10k.cpunks10k()\n",
    "(X_train, Y_train), (X_test, Y_test), (labels) = cp.load_data()\n",
    "X = np.concatenate((X_train, X_test), axis=0)\n",
    "df = cp.punks_df"
   ]
  },
  {
   "cell_type": "markdown",
   "id": "9c19ee1e",
   "metadata": {},
   "source": [
    "### meta parameters"
   ]
  },
  {
   "cell_type": "code",
   "execution_count": 6,
   "id": "50e4aa6f",
   "metadata": {},
   "outputs": [],
   "source": [
    "class ContextManager(dict):\n",
    "    \"\"\"dot.notation access to dictionary attributes\"\"\"\n",
    "    __getattr__ = dict.get\n",
    "    __setattr__ = dict.__setitem__\n",
    "    __delattr__ = dict.__delitem__\n"
   ]
  },
  {
   "cell_type": "code",
   "execution_count": 7,
   "id": "ab638c0c",
   "metadata": {},
   "outputs": [],
   "source": [
    "def r_loss(y_true, y_pred):\n",
    "            return K.mean(K.square(y_true - y_pred), axis = [1,2,3])\n",
    "ctx = ContextManager({})\n",
    "ctx.r_loss = r_loss\n",
    "ctx.learning_rate = 0.0005\n",
    "ctx.batch_size = 32\n",
    "ctx.initial_epoch = 0\n",
    "ctx.input_dim = (24, 24, 4)\n",
    "ctx.encoder_conv_filters = [32, 64, 64, 64]\n",
    "ctx.encoder_conv_kernel_size = [3,3,3,3]\n",
    "ctx.encoder_conv_strides = [1,2,2,1]\n",
    "ctx.decoder_conv_t_filters = [64,64,32,4]\n",
    "ctx.decoder_conv_t_kernel_size = [3,3,3,3]\n",
    "ctx.decoder_conv_t_strides = [1,2,2,1]\n",
    "ctx.z_dim = 4\n",
    "ctx.n_layers_encoder = len(ctx.encoder_conv_filters)\n",
    "ctx.n_layers_decoder = len(ctx.decoder_conv_t_filters)\n"
   ]
  },
  {
   "cell_type": "code",
   "execution_count": 9,
   "id": "8e0c354e",
   "metadata": {},
   "outputs": [],
   "source": [
    "gpu_devices = tf.config.experimental.list_physical_devices('GPU')\n",
    "for device in gpu_devices:\n",
    "    tf.config.experimental.set_memory_growth(device, True)"
   ]
  },
  {
   "cell_type": "code",
   "execution_count": 11,
   "id": "370e39dc",
   "metadata": {},
   "outputs": [],
   "source": [
    "encoder_input = Input(shape=ctx.input_dim, \n",
    "                      name='encoder_input')\n",
    "\n",
    "x = encoder_input\n",
    "\n",
    "for i in range(ctx.n_layers_encoder):\n",
    "    conv_layer = Conv2D(filters = ctx.encoder_conv_filters[i],\n",
    "                        kernel_size = ctx.encoder_conv_kernel_size[i],\n",
    "                        strides = ctx.encoder_conv_strides[i],\n",
    "                        padding = 'same',\n",
    "                        name = 'encoder_conv_' + str(i))\n",
    "    x = conv_layer(x)\n",
    "    x = LeakyReLU()(x)\n",
    "    \n",
    "shape_before_flattening = K.int_shape(x)[1:]\n",
    "x = Flatten()(x)\n",
    "encoder_output= Dense(ctx.z_dim, name='encoder_output')(x)\n",
    "encoder = Model(encoder_input, encoder_output)\n"
   ]
  },
  {
   "cell_type": "markdown",
   "id": "136f1616",
   "metadata": {},
   "source": [
    "### The Decoder"
   ]
  },
  {
   "cell_type": "code",
   "execution_count": 12,
   "id": "dc3f5e48",
   "metadata": {},
   "outputs": [],
   "source": [
    "decoder_input = Input(shape=(ctx.z_dim,), name='decoder_input')\n",
    "\n",
    "x = Dense(np.prod(shape_before_flattening))(decoder_input)\n",
    "x = Reshape(shape_before_flattening)(x)\n",
    "\n",
    "for i in range(ctx.n_layers_decoder):\n",
    "    conv_t_layer = Conv2DTranspose(filters = ctx.decoder_conv_t_filters[i],\n",
    "                                   kernel_size = ctx.decoder_conv_t_kernel_size[i],\n",
    "                                   strides = ctx.decoder_conv_t_strides[i],\n",
    "                                   padding = 'same',\n",
    "                                   name = 'decoder_conv_t_' + str(i))\n",
    "    x = conv_t_layer(x)\n",
    "    if i < ctx.n_layers_decoder - 1:\n",
    "        x = LeakyReLU()(x)\n",
    "        #x = BatchNormalization()(x)\n",
    "        #x = Dropout(rate = 0.25)(x)\n",
    "    else:\n",
    "        x = Activation('sigmoid')(x)\n",
    "\n",
    "decoder_output = x\n",
    "decoder = Model(decoder_input, decoder_output)\n"
   ]
  },
  {
   "cell_type": "markdown",
   "id": "b7dc310c",
   "metadata": {},
   "source": [
    "### Combine to Build the Autoencoder"
   ]
  },
  {
   "cell_type": "code",
   "execution_count": 13,
   "id": "f9715f29",
   "metadata": {},
   "outputs": [],
   "source": [
    "model_input = encoder_input\n",
    "model_output = decoder(encoder_output)\n",
    "\n",
    "model = Model(model_input, model_output)\n"
   ]
  },
  {
   "cell_type": "markdown",
   "id": "47f38faa",
   "metadata": {},
   "source": [
    "### Compile"
   ]
  },
  {
   "cell_type": "code",
   "execution_count": 14,
   "id": "77949bef",
   "metadata": {},
   "outputs": [],
   "source": [
    "def r_loss(y_true, y_pred):\n",
    "            return K.mean(K.square(y_true - y_pred), axis = [1,2,3])"
   ]
  },
  {
   "cell_type": "code",
   "execution_count": 15,
   "id": "f57f32bf",
   "metadata": {},
   "outputs": [],
   "source": [
    "optimizer = Adam(learning_rate=ctx.learning_rate)\n",
    "model.compile(optimizer=optimizer, loss = r_loss)"
   ]
  },
  {
   "cell_type": "markdown",
   "id": "d8d50a8d",
   "metadata": {},
   "source": [
    "### Train"
   ]
  },
  {
   "cell_type": "code",
   "execution_count": 16,
   "id": "3273ae6d",
   "metadata": {},
   "outputs": [],
   "source": [
    "from tensorflow.keras.callbacks import Callback, LearningRateScheduler"
   ]
  },
  {
   "cell_type": "code",
   "execution_count": 17,
   "id": "40873bd4",
   "metadata": {},
   "outputs": [],
   "source": [
    "def step_decay_schedule(initial_lr, decay_factor=0.5, step_size=1):\n",
    "    '''\n",
    "    Wrapper function to create a LearningRateScheduler with step decay schedule.\n",
    "    '''\n",
    "    def schedule(epoch):\n",
    "        new_lr = initial_lr * (decay_factor ** np.floor(epoch/step_size))\n",
    "\n",
    "        return new_lr\n",
    "\n",
    "    return LearningRateScheduler(schedule)\n",
    "\n",
    "\n"
   ]
  },
  {
   "cell_type": "code",
   "execution_count": 18,
   "id": "fdf874ec",
   "metadata": {},
   "outputs": [
    {
     "name": "stdout",
     "output_type": "stream",
     "text": [
      "Epoch 1/20\n"
     ]
    },
    {
     "name": "stderr",
     "output_type": "stream",
     "text": [
      "2022-01-31 07:40:25.041288: I tensorflow/stream_executor/cuda/cuda_dnn.cc:366] Loaded cuDNN version 8200\n",
      "2022-01-31 07:40:25.363287: I tensorflow/core/platform/default/subprocess.cc:304] Start cannot spawn child process: No such file or directory\n"
     ]
    },
    {
     "name": "stdout",
     "output_type": "stream",
     "text": [
      "282/282 [==============================] - 7s 16ms/step - loss: 0.0463 - lr: 5.0000e-04\n",
      "Epoch 2/20\n",
      "282/282 [==============================] - 5s 16ms/step - loss: 0.0214 - lr: 5.0000e-04\n",
      "Epoch 3/20\n",
      "282/282 [==============================] - 5s 16ms/step - loss: 0.0179 - lr: 5.0000e-04\n",
      "Epoch 4/20\n",
      "282/282 [==============================] - 4s 16ms/step - loss: 0.0159 - lr: 5.0000e-04\n",
      "Epoch 5/20\n",
      "282/282 [==============================] - 4s 16ms/step - loss: 0.0145 - lr: 5.0000e-04\n",
      "Epoch 6/20\n",
      "282/282 [==============================] - 4s 16ms/step - loss: 0.0136 - lr: 5.0000e-04\n",
      "Epoch 7/20\n",
      "282/282 [==============================] - 5s 16ms/step - loss: 0.0130 - lr: 5.0000e-04\n",
      "Epoch 8/20\n",
      "282/282 [==============================] - 5s 16ms/step - loss: 0.0126 - lr: 5.0000e-04\n",
      "Epoch 9/20\n",
      "282/282 [==============================] - 5s 16ms/step - loss: 0.0121 - lr: 5.0000e-04\n",
      "Epoch 10/20\n",
      "282/282 [==============================] - 4s 16ms/step - loss: 0.0117 - lr: 5.0000e-04\n",
      "Epoch 11/20\n",
      "282/282 [==============================] - 5s 16ms/step - loss: 0.0114 - lr: 5.0000e-04\n",
      "Epoch 12/20\n",
      "282/282 [==============================] - 5s 16ms/step - loss: 0.0112 - lr: 5.0000e-04\n",
      "Epoch 13/20\n",
      "282/282 [==============================] - 4s 16ms/step - loss: 0.0109 - lr: 5.0000e-04\n",
      "Epoch 14/20\n",
      "282/282 [==============================] - 5s 16ms/step - loss: 0.0107 - lr: 5.0000e-04\n",
      "Epoch 15/20\n",
      "282/282 [==============================] - 4s 16ms/step - loss: 0.0104 - lr: 5.0000e-04\n",
      "Epoch 16/20\n",
      "282/282 [==============================] - 5s 16ms/step - loss: 0.0102 - lr: 5.0000e-04\n",
      "Epoch 17/20\n",
      "282/282 [==============================] - 4s 16ms/step - loss: 0.0100 - lr: 5.0000e-04\n",
      "Epoch 18/20\n",
      "282/282 [==============================] - 4s 16ms/step - loss: 0.0099 - lr: 5.0000e-04\n",
      "Epoch 19/20\n",
      "282/282 [==============================] - 4s 16ms/step - loss: 0.0097 - lr: 5.0000e-04\n",
      "Epoch 20/20\n",
      "282/282 [==============================] - 4s 16ms/step - loss: 0.0095 - lr: 5.0000e-04\n"
     ]
    },
    {
     "data": {
      "text/plain": [
       "<keras.callbacks.History at 0x7f697000ea90>"
      ]
     },
     "execution_count": 18,
     "metadata": {},
     "output_type": "execute_result"
    }
   ],
   "source": [
    "epochs = 20\n",
    "\n",
    "initial_epoch = 0\n",
    "lr_decay = 1\n",
    "\n",
    "lr_sched = step_decay_schedule(initial_lr=ctx.learning_rate,\n",
    "                               decay_factor=lr_decay,\n",
    "                               step_size=1)\n",
    "\n",
    "callbacks_list = [lr_sched]\n",
    "\n",
    "model.fit(X_train,\n",
    "          X_train,\n",
    "          batch_size = ctx.batch_size,\n",
    "          shuffle = True,\n",
    "          epochs = epochs,\n",
    "          initial_epoch = initial_epoch,\n",
    "          callbacks = callbacks_list)"
   ]
  },
  {
   "cell_type": "code",
   "execution_count": 19,
   "id": "9f326ffb",
   "metadata": {},
   "outputs": [
    {
     "data": {
      "image/png": "[encoded data removed]",
      "text/plain": [
       "<Figure size 1500x300 with 20 Axes>"
      ]
     },
     "metadata": {},
     "output_type": "display_data"
    }
   ],
   "source": [
    "n_to_show = 10\n",
    "example_idx = np.random.choice(range(len(X_test)), n_to_show)\n",
    "example_images = X_test[example_idx]\n",
    "\n",
    "z_points = encoder.predict(example_images)\n",
    "\n",
    "reconst_images = decoder.predict(z_points)\n",
    "\n",
    "fig = plt.figure(figsize=(15, 3))\n",
    "fig.subplots_adjust(hspace=0.4, wspace=0.4)\n",
    "\n",
    "for i in range(n_to_show):\n",
    "    img = example_images[i]#.squeeze()\n",
    "    ax = fig.add_subplot(2, n_to_show, i+1)\n",
    "    ax.axis('off')\n",
    "    ax.text(0.5, -0.35, str(np.round(z_points[i],1)), fontsize=10, ha='center', transform=ax.transAxes)   \n",
    "    ax.imshow(img)\n",
    "\n",
    "for i in range(n_to_show):\n",
    "    img = reconst_images[i]#.squeeze()\n",
    "    ax = fig.add_subplot(2, n_to_show, i+n_to_show+1)\n",
    "    ax.axis('off')\n",
    "    ax.imshow(img)"
   ]
  },
  {
   "cell_type": "code",
   "execution_count": 20,
   "id": "34a677b0",
   "metadata": {},
   "outputs": [
    {
     "data": {
      "text/plain": [
       "array([[  52.53542  ,    7.608099 ,  -30.516832 ,   40.913406 ],\n",
       "       [ -27.434277 ,   67.33613  ,  -32.38462  ,   31.595358 ],\n",
       "       [ 115.8967   ,    8.493312 ,    0.9253765,   58.300896 ],\n",
       "       [  40.846695 ,    1.5217459,  -28.869993 ,   34.066353 ],\n",
       "       [  30.332561 ,    2.6675012,  -46.254784 ,   54.12702  ],\n",
       "       [ -18.529625 ,  -16.153698 ,  -32.4733   ,  101.95145  ],\n",
       "       [  83.075134 ,   11.015237 ,  -51.09091  ,    1.3835558],\n",
       "       [-105.80394  ,  105.76055  ,   45.367508 ,   50.74965  ],\n",
       "       [   5.826969 ,  114.51572  ,   24.020369 ,   10.350016 ],\n",
       "       [ 110.71733  ,   18.068203 ,  -42.601883 ,  -15.762604 ]],\n",
       "      dtype=float32)"
      ]
     },
     "execution_count": 20,
     "metadata": {},
     "output_type": "execute_result"
    }
   ],
   "source": [
    "#reconst_images = AE.decoder.predict(z_points)\n",
    "z_points"
   ]
  },
  {
   "cell_type": "code",
   "execution_count": 21,
   "id": "7532d981",
   "metadata": {},
   "outputs": [
    {
     "data": {
      "text/plain": [
       "<matplotlib.image.AxesImage at 0x7f68f02773d0>"
      ]
     },
     "execution_count": 21,
     "metadata": {},
     "output_type": "execute_result"
    },
    {
     "data": {
      "image/png": "[encoded data removed]",
      "text/plain": [
       "<Figure size 640x480 with 1 Axes>"
      ]
     },
     "metadata": {},
     "output_type": "display_data"
    }
   ],
   "source": [
    "z_s = np.array([[  7.350558  , -13.799404  ,  -2.4654112 ,  -6.299609  ]])\n",
    "reconst_images = decoder.predict(z_s)\n",
    "plt.imshow(reconst_images[0])"
   ]
  },
  {
   "cell_type": "markdown",
   "id": "da76c19f",
   "metadata": {},
   "source": [
    "### pick two punks and do the old face morph trick "
   ]
  },
  {
   "cell_type": "code",
   "execution_count": 22,
   "id": "30d205f4",
   "metadata": {},
   "outputs": [
    {
     "data": {
      "image/png": "[encoded data removed]",
      "text/plain": [
       "<Figure size 1500x300 with 20 Axes>"
      ]
     },
     "metadata": {},
     "output_type": "display_data"
    }
   ],
   "source": [
    "punk_x_img = example_images[0]\n",
    "punk_y_img = example_images[8]\n",
    "punk_x_coords = [  7.350558  , -13.799404  ,  -2.4654112 ,  -6.299609  ]\n",
    "punk_y_coords = [-10.365253  , -11.024603  ,  16.105639  ,   3.2864196 ]\n",
    "\n",
    "punk_x_coords = [ 10.241212  ,   8.368749  ,   4.796343  ,  -5.5694203 ]\n",
    "punk_y_coords = [ 12.844572  ,   1.8600631 ,  10.4856    ,  -6.2996225 ]\n",
    "\n",
    "M=20\n",
    "x = punk_x_coords\n",
    "y = punk_y_coords\n",
    "x = zip(np.linspace(x[0],y[0],M),\n",
    "        np.linspace(x[1],y[1],M),\n",
    "        np.linspace(x[2],y[2],M),\n",
    "        np.linspace(x[3],y[3],M),\n",
    "       )\n",
    "z_s = np.array(list(x))\n",
    "reconst_images = decoder.predict(z_s)\n",
    "\n",
    "fig = plt.figure(figsize=(15, 3))\n",
    "fig.subplots_adjust(hspace=0.4, wspace=0.4)\n",
    "for i in range(M):\n",
    "    img = reconst_images[i]\n",
    "    ax = fig.add_subplot(2, n_to_show, i+1)\n",
    "    ax.axis('off')\n",
    "    ax.imshow(img)"
   ]
  },
  {
   "cell_type": "code",
   "execution_count": 23,
   "id": "81872cda",
   "metadata": {},
   "outputs": [],
   "source": [
    "imgs_reversed = np.array([reconst_images[i] for i in range(len(reconst_images) - 1, -1, -1)])\n",
    "imgs = np.concatenate((reconst_images, imgs_reversed))"
   ]
  },
  {
   "cell_type": "code",
   "execution_count": 24,
   "id": "453f4665",
   "metadata": {},
   "outputs": [],
   "source": [
    "import matplotlib.animation as animation\n",
    "%matplotlib qt\n",
    "\n",
    "imagelist=imgs \n",
    "fig = plt.figure() # make figure\n",
    "\n",
    "# make axesimage object\n",
    "# the vmin and vmax here are very important to get the color map correct\n",
    "im = plt.imshow(imagelist[0]) #, cmap=plt.get_cmap('jet'), vmin=0, vmax=255)\n",
    "\n",
    "# function to update figure\n",
    "def updatefig(j):\n",
    "    # set the data in the axesimage object\n",
    "    im.set_array(imagelist[j])\n",
    "    # return the artists set\n",
    "    return [im]\n",
    "# kick off the animation\n",
    "ani = animation.FuncAnimation(fig, updatefig, frames=range(40), \n",
    "                             interval=48)\n",
    "plt.show()"
   ]
  },
  {
   "cell_type": "code",
   "execution_count": 29,
   "id": "c6a788b5",
   "metadata": {},
   "outputs": [],
   "source": [
    "writer = animation.PillowWriter(fps=25)  \n",
    "ani.save(\"../tmp/demo.gif\", writer=writer) "
   ]
  },
  {
   "cell_type": "markdown",
   "id": "584920fc",
   "metadata": {},
   "source": [
    "## Reducing Dimensions and staying true to the colorpunx"
   ]
  },
  {
   "cell_type": "code",
   "execution_count": 32,
   "id": "fd278e1f",
   "metadata": {},
   "outputs": [
    {
     "name": "stdout",
     "output_type": "stream",
     "text": [
      "Downloading data from https://storage.googleapis.com/tensorflow/tf-keras-datasets/mnist.npz\n",
      "11493376/11490434 [==============================] - 0s 0us/step\n"
     ]
    }
   ],
   "source": [
    "(mnist_x_train, mnist_y_train), (mnist_x_test, minst_y_test) = tf.keras.datasets.mnist.load_data()"
   ]
  },
  {
   "cell_type": "code",
   "execution_count": 37,
   "id": "c17fd3e7",
   "metadata": {},
   "outputs": [
    {
     "data": {
      "text/plain": [
       "numpy.uint8"
      ]
     },
     "execution_count": 37,
     "metadata": {},
     "output_type": "execute_result"
    }
   ],
   "source": [
    "type(mnist_x_train[0][0][0])"
   ]
  },
  {
   "cell_type": "code",
   "execution_count": 68,
   "id": "c9a57cc1",
   "metadata": {},
   "outputs": [
    {
     "data": {
      "text/plain": [
       "numpy.float32"
      ]
     },
     "execution_count": 68,
     "metadata": {},
     "output_type": "execute_result"
    }
   ],
   "source": [
    "type(X_train[0][0][0][0])"
   ]
  },
  {
   "cell_type": "code",
   "execution_count": 143,
   "id": "da061750",
   "metadata": {},
   "outputs": [],
   "source": [
    "import pickle\n",
    "\n",
    "class CryptoPunksColorMap:\n",
    "    def __init__(self):\n",
    "        with open(f\"../data/_colors_count.pickle\", 'rb') as f:\n",
    "            self.colors_count = pickle.load(f)\n",
    "            self.colors = list(self.colors_count.keys())\n",
    "            self.color_d = {}\n",
    "            i=0\n",
    "            for k in self.colors:\n",
    "                self.color_d[k] = i\n",
    "                i+=1\n",
    "    \n",
    "    def flatten(self, img):\n",
    "        return np.array([[self.colors_d[str(c)] for c in row]\n",
    "                                    for row in img]).astype(np.uint8)\n",
    "    \n",
    "    def unflatten(self,img):\n",
    "        return np.array([[np.fromstring(self.colors[c][1:-1], float, sep=' ') for c in row]\n",
    "                                                                       for row in img])\n",
    "\n",
    "cpm = CryptoPunksColorMap()"
   ]
  }
 ],
 "metadata": {
  "kernelspec": {
   "display_name": "Python 3 (ipykernel)",
   "language": "python",
   "name": "python3"
  },
  "language_info": {
   "codemirror_mode": {
    "name": "ipython",
    "version": 3
   },
   "file_extension": ".py",
   "mimetype": "text/x-python",
   "name": "python",
   "nbconvert_exporter": "python",
   "pygments_lexer": "ipython3",
   "version": "3.9.7"
  }
 },
 "nbformat": 4,
 "nbformat_minor": 5
}
